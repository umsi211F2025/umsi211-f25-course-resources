{
 "cells": [
  {
   "cell_type": "markdown",
   "id": "a832f05c",
   "metadata": {},
   "source": [
    "# Data Processing Concepts: Aggregation, Calculated Columns, Joins, Group By, Bar Graphs\n",
    "\n",
    "This mini-lecture covers advanced data processing concepts using Python and pandas, continuing with the same dataset."
   ]
  },
  {
   "cell_type": "markdown",
   "id": "086b8961",
   "metadata": {},
   "source": [
    "## 4. Aggregation Operations\n",
    "- Aggregation combines data to produce summary statistics such as the sum of a column, the average, or the smallest or largest value, or median.\n",
    "- Example: Calculate the mean score for each problem set."
   ]
  },
  {
   "cell_type": "code",
   "execution_count": 1,
   "id": "e3d8456e",
   "metadata": {},
   "outputs": [
    {
     "data": {
      "text/plain": [
       "ps1    83.0\n",
       "ps2    82.4\n",
       "ps3    79.0\n",
       "dtype: float64"
      ]
     },
     "execution_count": 1,
     "metadata": {},
     "output_type": "execute_result"
    }
   ],
   "source": [
    "import pandas as pd\n",
    "df = pd.read_csv('data.csv')\n",
    "df[['ps1', 'ps2', 'ps3']].mean()"
   ]
  },
  {
   "cell_type": "markdown",
   "id": "ede18577",
   "metadata": {},
   "source": [
    "**Lab Exercise: Other Aggregation Operations**\n",
    "- Find the smallest and largest values for ps2\n",
    "- Find the average score for ps3\n",
    "- Find the median score for ps1\n",
    "\n",
    "As always, use the copilot to help you write, edit, and understand code.\n"
   ]
  },
  {
   "cell_type": "markdown",
   "id": "8be1c74e",
   "metadata": {},
   "source": [
    "## 5. Calculated Columns\n",
    "- You can create new columns based on calculations or comparisons between other columns.\n",
    "- Example: Create a column for the average score across all problem sets."
   ]
  },
  {
   "cell_type": "code",
   "execution_count": 2,
   "id": "8258f6f2",
   "metadata": {},
   "outputs": [
    {
     "data": {
      "text/html": [
       "<div>\n",
       "<style scoped>\n",
       "    .dataframe tbody tr th:only-of-type {\n",
       "        vertical-align: middle;\n",
       "    }\n",
       "\n",
       "    .dataframe tbody tr th {\n",
       "        vertical-align: top;\n",
       "    }\n",
       "\n",
       "    .dataframe thead th {\n",
       "        text-align: right;\n",
       "    }\n",
       "</style>\n",
       "<table border=\"1\" class=\"dataframe\">\n",
       "  <thead>\n",
       "    <tr style=\"text-align: right;\">\n",
       "      <th></th>\n",
       "      <th>name</th>\n",
       "      <th>ps1</th>\n",
       "      <th>ps2</th>\n",
       "      <th>ps3</th>\n",
       "      <th>average</th>\n",
       "    </tr>\n",
       "  </thead>\n",
       "  <tbody>\n",
       "    <tr>\n",
       "      <th>0</th>\n",
       "      <td>Amina</td>\n",
       "      <td>68</td>\n",
       "      <td>85</td>\n",
       "      <td>72</td>\n",
       "      <td>75.000000</td>\n",
       "    </tr>\n",
       "    <tr>\n",
       "      <th>1</th>\n",
       "      <td>Bob</td>\n",
       "      <td>82</td>\n",
       "      <td>60</td>\n",
       "      <td>89</td>\n",
       "      <td>77.000000</td>\n",
       "    </tr>\n",
       "    <tr>\n",
       "      <th>2</th>\n",
       "      <td>Charlie</td>\n",
       "      <td>85</td>\n",
       "      <td>92</td>\n",
       "      <td>60</td>\n",
       "      <td>79.000000</td>\n",
       "    </tr>\n",
       "    <tr>\n",
       "      <th>3</th>\n",
       "      <td>Dawud</td>\n",
       "      <td>92</td>\n",
       "      <td>85</td>\n",
       "      <td>88</td>\n",
       "      <td>88.333333</td>\n",
       "    </tr>\n",
       "    <tr>\n",
       "      <th>4</th>\n",
       "      <td>Ellie</td>\n",
       "      <td>88</td>\n",
       "      <td>90</td>\n",
       "      <td>86</td>\n",
       "      <td>88.000000</td>\n",
       "    </tr>\n",
       "  </tbody>\n",
       "</table>\n",
       "</div>"
      ],
      "text/plain": [
       "      name  ps1  ps2  ps3    average\n",
       "0    Amina   68   85   72  75.000000\n",
       "1      Bob   82   60   89  77.000000\n",
       "2  Charlie   85   92   60  79.000000\n",
       "3    Dawud   92   85   88  88.333333\n",
       "4    Ellie   88   90   86  88.000000"
      ]
     },
     "execution_count": 2,
     "metadata": {},
     "output_type": "execute_result"
    }
   ],
   "source": [
    "df['average'] = df[['ps1', 'ps2', 'ps3']].mean(axis=1)\n",
    "df"
   ]
  },
  {
   "cell_type": "markdown",
   "id": "d92047ea",
   "metadata": {},
   "source": [
    "**Lab Exercise: Other Comparisons**\n",
    "- Which students, if any, did better on ps3 than on ps1?\n",
    "- Which students, if any, continually improved from ps1 to ps2 to ps3?"
   ]
  },
  {
   "cell_type": "markdown",
   "id": "51c63fab",
   "metadata": {},
   "source": [
    "## 6. Joining Tables\n",
    "- You can combine data from two tables based on a common column.\n",
    "\n",
    "Take a look at `program_status.csv` in the data folder.\n",
    "\n",
    "Below, we'll add a column to the scores table indicating each student's program status (e.g., \"grad\" or \"undergrad\").\n",
    "\n",
    "This only works if both tables have a column with the same values."
   ]
  },
  {
   "cell_type": "code",
   "execution_count": 3,
   "id": "13d74fc8",
   "metadata": {},
   "outputs": [
    {
     "data": {
      "text/html": [
       "<div>\n",
       "<style scoped>\n",
       "    .dataframe tbody tr th:only-of-type {\n",
       "        vertical-align: middle;\n",
       "    }\n",
       "\n",
       "    .dataframe tbody tr th {\n",
       "        vertical-align: top;\n",
       "    }\n",
       "\n",
       "    .dataframe thead th {\n",
       "        text-align: right;\n",
       "    }\n",
       "</style>\n",
       "<table border=\"1\" class=\"dataframe\">\n",
       "  <thead>\n",
       "    <tr style=\"text-align: right;\">\n",
       "      <th></th>\n",
       "      <th>name</th>\n",
       "      <th>ps1</th>\n",
       "      <th>ps2</th>\n",
       "      <th>ps3</th>\n",
       "      <th>average</th>\n",
       "      <th>student_name</th>\n",
       "      <th>program_status</th>\n",
       "    </tr>\n",
       "  </thead>\n",
       "  <tbody>\n",
       "    <tr>\n",
       "      <th>0</th>\n",
       "      <td>Amina</td>\n",
       "      <td>68</td>\n",
       "      <td>85</td>\n",
       "      <td>72</td>\n",
       "      <td>75.000000</td>\n",
       "      <td>Amina</td>\n",
       "      <td>grad</td>\n",
       "    </tr>\n",
       "    <tr>\n",
       "      <th>1</th>\n",
       "      <td>Bob</td>\n",
       "      <td>82</td>\n",
       "      <td>60</td>\n",
       "      <td>89</td>\n",
       "      <td>77.000000</td>\n",
       "      <td>Bob</td>\n",
       "      <td>grad</td>\n",
       "    </tr>\n",
       "    <tr>\n",
       "      <th>2</th>\n",
       "      <td>Charlie</td>\n",
       "      <td>85</td>\n",
       "      <td>92</td>\n",
       "      <td>60</td>\n",
       "      <td>79.000000</td>\n",
       "      <td>Charlie</td>\n",
       "      <td>undergrad</td>\n",
       "    </tr>\n",
       "    <tr>\n",
       "      <th>3</th>\n",
       "      <td>Dawud</td>\n",
       "      <td>92</td>\n",
       "      <td>85</td>\n",
       "      <td>88</td>\n",
       "      <td>88.333333</td>\n",
       "      <td>Dawud</td>\n",
       "      <td>undergrad</td>\n",
       "    </tr>\n",
       "    <tr>\n",
       "      <th>4</th>\n",
       "      <td>Ellie</td>\n",
       "      <td>88</td>\n",
       "      <td>90</td>\n",
       "      <td>86</td>\n",
       "      <td>88.000000</td>\n",
       "      <td>Ellie</td>\n",
       "      <td>undergrad</td>\n",
       "    </tr>\n",
       "  </tbody>\n",
       "</table>\n",
       "</div>"
      ],
      "text/plain": [
       "      name  ps1  ps2  ps3    average student_name program_status\n",
       "0    Amina   68   85   72  75.000000        Amina           grad\n",
       "1      Bob   82   60   89  77.000000          Bob           grad\n",
       "2  Charlie   85   92   60  79.000000      Charlie      undergrad\n",
       "3    Dawud   92   85   88  88.333333        Dawud      undergrad\n",
       "4    Ellie   88   90   86  88.000000        Ellie      undergrad"
      ]
     },
     "execution_count": 3,
     "metadata": {},
     "output_type": "execute_result"
    }
   ],
   "source": [
    "status_df = pd.read_csv('program_status.csv')\n",
    "merged = pd.merge(df, status_df, left_on='name', right_on='student_name')\n",
    "merged"
   ]
  },
  {
   "cell_type": "markdown",
   "id": "b622c782",
   "metadata": {},
   "source": [
    "## 7. Group By Aggregations\n",
    "\n",
    "We can group rows by the values in one column, and then aggregate within each group.\n",
    "\n",
    "- Group by a column and aggregate within each group.\n",
    "- Example: Find the min, max, average, and median scores for undergrads and grads."
   ]
  },
  {
   "cell_type": "code",
   "execution_count": 4,
   "id": "cb2098b3",
   "metadata": {},
   "outputs": [
    {
     "data": {
      "text/html": [
       "<div>\n",
       "<style scoped>\n",
       "    .dataframe tbody tr th:only-of-type {\n",
       "        vertical-align: middle;\n",
       "    }\n",
       "\n",
       "    .dataframe tbody tr th {\n",
       "        vertical-align: top;\n",
       "    }\n",
       "\n",
       "    .dataframe thead th {\n",
       "        text-align: right;\n",
       "    }\n",
       "</style>\n",
       "<table border=\"1\" class=\"dataframe\">\n",
       "  <thead>\n",
       "    <tr style=\"text-align: right;\">\n",
       "      <th></th>\n",
       "      <th>count</th>\n",
       "      <th>min</th>\n",
       "      <th>max</th>\n",
       "      <th>mean</th>\n",
       "      <th>median</th>\n",
       "    </tr>\n",
       "    <tr>\n",
       "      <th>program_status</th>\n",
       "      <th></th>\n",
       "      <th></th>\n",
       "      <th></th>\n",
       "      <th></th>\n",
       "      <th></th>\n",
       "    </tr>\n",
       "  </thead>\n",
       "  <tbody>\n",
       "    <tr>\n",
       "      <th>grad</th>\n",
       "      <td>2</td>\n",
       "      <td>75.0</td>\n",
       "      <td>77.000000</td>\n",
       "      <td>76.000000</td>\n",
       "      <td>76.0</td>\n",
       "    </tr>\n",
       "    <tr>\n",
       "      <th>undergrad</th>\n",
       "      <td>3</td>\n",
       "      <td>79.0</td>\n",
       "      <td>88.333333</td>\n",
       "      <td>85.111111</td>\n",
       "      <td>88.0</td>\n",
       "    </tr>\n",
       "  </tbody>\n",
       "</table>\n",
       "</div>"
      ],
      "text/plain": [
       "                count   min        max       mean  median\n",
       "program_status                                           \n",
       "grad                2  75.0  77.000000  76.000000    76.0\n",
       "undergrad           3  79.0  88.333333  85.111111    88.0"
      ]
     },
     "execution_count": 4,
     "metadata": {},
     "output_type": "execute_result"
    }
   ],
   "source": [
    "# Compute min, max, mean, and median for average scores by program status\n",
    "grouped = merged.groupby('program_status')['average'].agg(['count','min', 'max', 'mean', 'median'])\n",
    "grouped"
   ]
  },
  {
   "cell_type": "markdown",
   "id": "d76a52c2",
   "metadata": {},
   "source": [
    "## 8. Bar Graph Visualization\n",
    "- Visualize results using a bar graph.\n",
    "- Example: Bar graph of median average score by program status."
   ]
  },
  {
   "cell_type": "code",
   "execution_count": 5,
   "id": "0f0d8966",
   "metadata": {},
   "outputs": [
    {
     "data": {
      "image/png": "[encoded data removed]",
      "text/plain": [
       "<Figure size 640x480 with 1 Axes>"
      ]
     },
     "metadata": {},
     "output_type": "display_data"
    }
   ],
   "source": [
    "import matplotlib.pyplot as plt\n",
    "grouped['median'].plot(kind='bar')\n",
    "plt.ylabel('Median Average Score')\n",
    "plt.title('Median Average Score by Program Status')\n",
    "plt.show()"
   ]
  },
  {
   "cell_type": "markdown",
   "id": "f761c0b1",
   "metadata": {},
   "source": [
    "** Lab Exercise: Other Visualizations**\n",
    "Make some other intersting visualizations of the data in the merged dataset. Could be bar graphs, or maybe some other type of display you know about."
   ]
  },
  {
   "cell_type": "markdown",
   "id": "d96b7a4e",
   "metadata": {},
   "source": []
  }
 ],
 "metadata": {
  "kernelspec": {
   "display_name": "3.12.2",
   "language": "python",
   "name": "python3"
  },
  "language_info": {
   "codemirror_mode": {
    "name": "ipython",
    "version": 3
   },
   "file_extension": ".py",
   "mimetype": "text/x-python",
   "name": "python",
   "nbconvert_exporter": "python",
   "pygments_lexer": "ipython3",
   "version": "3.12.2"
  }
 },
 "nbformat": 4,
 "nbformat_minor": 5
}
