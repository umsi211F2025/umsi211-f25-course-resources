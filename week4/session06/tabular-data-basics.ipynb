{
 "cells": [
  {
   "cell_type": "markdown",
   "id": "60fc2f86",
   "metadata": {},
   "source": [
    "# Data Processing Concepts: Tabular Data, Filtering, Sorting\n",
    "\n",
    "This mini-lecture covers three key concepts in data processing using Python and pandas:"
   ]
  },
  {
   "cell_type": "markdown",
   "id": "0d9c2f9a",
   "metadata": {},
   "source": [
    "## 1. Tabular Data & CSV Files\n",
    "- Tabular data is organized in rows and columns, like a spreadsheet.\n",
    "- Each column has a name (header).\n",
    "- CSV (Comma-Separated Values) files are a common format for storing tabular data."
   ]
  },
  {
   "cell_type": "markdown",
   "id": "dd6e8e44",
   "metadata": {},
   "source": [
    "### Explore the CSV File as Text\n",
    "- Open `data.csv` in VS Code to see how tabular data is stored as plain text.\n",
    "- Notice how each row is a line, and columns are separated by commas.\n",
    "- Use the Rainbow CSV extension to highlight columns and make the file easier to read. Right-click in the file and look for the Rainbow CSV submenu.\n",
    "\n",
    "### Download and Open in a Spreadsheet Program\n",
    "- Download `data.csv` from your Codespace to your local computer:\n",
    "    - In browser Codespaces, right-click the file and select \"Download\".\n",
    "- Open the downloaded file with a spreadsheet program (Excel, Google Sheets, etc.).\n",
    "- Observe how the data appears in a grid, with columns and rows.\n",
    "\n",
    "### Take-home Point\n",
    "`.csv` files are a simple and widely-used format for moving tabular data from one application to another. They can be viewed as plain text or in spreadsheet programs."
   ]
  },
  {
   "cell_type": "markdown",
   "id": "2234fcf6",
   "metadata": {},
   "source": [
    "Most important for our purposes, then can be easily read by the python interpreter using the pandas library."
   ]
  },
  {
   "cell_type": "code",
   "execution_count": 1,
   "id": "2cfe9791",
   "metadata": {},
   "outputs": [
    {
     "data": {
      "text/html": [
       "<div>\n",
       "<style scoped>\n",
       "    .dataframe tbody tr th:only-of-type {\n",
       "        vertical-align: middle;\n",
       "    }\n",
       "\n",
       "    .dataframe tbody tr th {\n",
       "        vertical-align: top;\n",
       "    }\n",
       "\n",
       "    .dataframe thead th {\n",
       "        text-align: right;\n",
       "    }\n",
       "</style>\n",
       "<table border=\"1\" class=\"dataframe\">\n",
       "  <thead>\n",
       "    <tr style=\"text-align: right;\">\n",
       "      <th></th>\n",
       "      <th>name</th>\n",
       "      <th>ps1</th>\n",
       "      <th>ps2</th>\n",
       "      <th>ps3</th>\n",
       "    </tr>\n",
       "  </thead>\n",
       "  <tbody>\n",
       "    <tr>\n",
       "      <th>0</th>\n",
       "      <td>Amina</td>\n",
       "      <td>78</td>\n",
       "      <td>95</td>\n",
       "      <td>82</td>\n",
       "    </tr>\n",
       "    <tr>\n",
       "      <th>1</th>\n",
       "      <td>Bob</td>\n",
       "      <td>92</td>\n",
       "      <td>70</td>\n",
       "      <td>99</td>\n",
       "    </tr>\n",
       "    <tr>\n",
       "      <th>2</th>\n",
       "      <td>Charlie</td>\n",
       "      <td>85</td>\n",
       "      <td>92</td>\n",
       "      <td>60</td>\n",
       "    </tr>\n",
       "    <tr>\n",
       "      <th>3</th>\n",
       "      <td>Dawud</td>\n",
       "      <td>92</td>\n",
       "      <td>85</td>\n",
       "      <td>88</td>\n",
       "    </tr>\n",
       "    <tr>\n",
       "      <th>4</th>\n",
       "      <td>Ellie</td>\n",
       "      <td>88</td>\n",
       "      <td>90</td>\n",
       "      <td>86</td>\n",
       "    </tr>\n",
       "  </tbody>\n",
       "</table>\n",
       "</div>"
      ],
      "text/plain": [
       "      name  ps1  ps2  ps3\n",
       "0    Amina   78   95   82\n",
       "1      Bob   92   70   99\n",
       "2  Charlie   85   92   60\n",
       "3    Dawud   92   85   88\n",
       "4    Ellie   88   90   86"
      ]
     },
     "execution_count": 1,
     "metadata": {},
     "output_type": "execute_result"
    }
   ],
   "source": [
    "# Example: Reading a CSV file with pandas\n",
    "import pandas as pd\n",
    "df = pd.read_csv('data.csv')\n",
    "df"
   ]
  },
  {
   "cell_type": "markdown",
   "id": "3502ef3c",
   "metadata": {},
   "source": [
    "## 2. Filter Operations\n",
    "- Filtering means selecting a subset of rows based on criteria.\n",
    "- Example below: Select rows where `score > 90`."
   ]
  },
  {
   "cell_type": "code",
   "execution_count": 2,
   "id": "6659f37f",
   "metadata": {},
   "outputs": [
    {
     "data": {
      "text/html": [
       "<div>\n",
       "<style scoped>\n",
       "    .dataframe tbody tr th:only-of-type {\n",
       "        vertical-align: middle;\n",
       "    }\n",
       "\n",
       "    .dataframe tbody tr th {\n",
       "        vertical-align: top;\n",
       "    }\n",
       "\n",
       "    .dataframe thead th {\n",
       "        text-align: right;\n",
       "    }\n",
       "</style>\n",
       "<table border=\"1\" class=\"dataframe\">\n",
       "  <thead>\n",
       "    <tr style=\"text-align: right;\">\n",
       "      <th></th>\n",
       "      <th>name</th>\n",
       "      <th>ps1</th>\n",
       "      <th>ps2</th>\n",
       "      <th>ps3</th>\n",
       "    </tr>\n",
       "  </thead>\n",
       "  <tbody>\n",
       "    <tr>\n",
       "      <th>1</th>\n",
       "      <td>Bob</td>\n",
       "      <td>92</td>\n",
       "      <td>70</td>\n",
       "      <td>99</td>\n",
       "    </tr>\n",
       "    <tr>\n",
       "      <th>3</th>\n",
       "      <td>Dawud</td>\n",
       "      <td>92</td>\n",
       "      <td>85</td>\n",
       "      <td>88</td>\n",
       "    </tr>\n",
       "  </tbody>\n",
       "</table>\n",
       "</div>"
      ],
      "text/plain": [
       "    name  ps1  ps2  ps3\n",
       "1    Bob   92   70   99\n",
       "3  Dawud   92   85   88"
      ]
     },
     "execution_count": 2,
     "metadata": {},
     "output_type": "execute_result"
    }
   ],
   "source": [
    "# Filter rows where ps1 > 90\n",
    "high_scores = df[df['ps1'] > 90]\n",
    "high_scores"
   ]
  },
  {
   "cell_type": "markdown",
   "id": "9d7c1d22",
   "metadata": {},
   "source": [
    "Use the copilot to write another code cell that filters based on age instead of score."
   ]
  },
  {
   "cell_type": "markdown",
   "id": "7b6e7c9a",
   "metadata": {},
   "source": [
    "## 3. Sorting Rows\n",
    "- Sorting arranges rows by the values in one or more columns.\n",
    "- Primary sort: by one column; secondary sort: by another if values are equal.\n",
    "- Example: Sort by `age`, then by `score` descending."
   ]
  },
  {
   "cell_type": "markdown",
   "id": "e2f26df4",
   "metadata": {},
   "source": [
    "### Sorting\n",
    "You can sort the data by a single column, for example, by `ps1` score. This arranges the rows in order of the values in that column.\n"
   ]
  },
  {
   "cell_type": "code",
   "execution_count": 3,
   "id": "3d0f9621",
   "metadata": {},
   "outputs": [
    {
     "data": {
      "text/html": [
       "<div>\n",
       "<style scoped>\n",
       "    .dataframe tbody tr th:only-of-type {\n",
       "        vertical-align: middle;\n",
       "    }\n",
       "\n",
       "    .dataframe tbody tr th {\n",
       "        vertical-align: top;\n",
       "    }\n",
       "\n",
       "    .dataframe thead th {\n",
       "        text-align: right;\n",
       "    }\n",
       "</style>\n",
       "<table border=\"1\" class=\"dataframe\">\n",
       "  <thead>\n",
       "    <tr style=\"text-align: right;\">\n",
       "      <th></th>\n",
       "      <th>name</th>\n",
       "      <th>ps1</th>\n",
       "      <th>ps2</th>\n",
       "      <th>ps3</th>\n",
       "    </tr>\n",
       "  </thead>\n",
       "  <tbody>\n",
       "    <tr>\n",
       "      <th>1</th>\n",
       "      <td>Bob</td>\n",
       "      <td>92</td>\n",
       "      <td>70</td>\n",
       "      <td>99</td>\n",
       "    </tr>\n",
       "    <tr>\n",
       "      <th>3</th>\n",
       "      <td>Dawud</td>\n",
       "      <td>92</td>\n",
       "      <td>85</td>\n",
       "      <td>88</td>\n",
       "    </tr>\n",
       "    <tr>\n",
       "      <th>4</th>\n",
       "      <td>Ellie</td>\n",
       "      <td>88</td>\n",
       "      <td>90</td>\n",
       "      <td>86</td>\n",
       "    </tr>\n",
       "    <tr>\n",
       "      <th>2</th>\n",
       "      <td>Charlie</td>\n",
       "      <td>85</td>\n",
       "      <td>92</td>\n",
       "      <td>60</td>\n",
       "    </tr>\n",
       "    <tr>\n",
       "      <th>0</th>\n",
       "      <td>Amina</td>\n",
       "      <td>78</td>\n",
       "      <td>95</td>\n",
       "      <td>82</td>\n",
       "    </tr>\n",
       "  </tbody>\n",
       "</table>\n",
       "</div>"
      ],
      "text/plain": [
       "      name  ps1  ps2  ps3\n",
       "1      Bob   92   70   99\n",
       "3    Dawud   92   85   88\n",
       "4    Ellie   88   90   86\n",
       "2  Charlie   85   92   60\n",
       "0    Amina   78   95   82"
      ]
     },
     "execution_count": 3,
     "metadata": {},
     "output_type": "execute_result"
    }
   ],
   "source": [
    "# Sort by ps1 score (descending order)\n",
    "df.sort_values('ps1', ascending=False)"
   ]
  },
  {
   "cell_type": "code",
   "execution_count": 4,
   "id": "c29083ad",
   "metadata": {},
   "outputs": [
    {
     "data": {
      "text/html": [
       "<div>\n",
       "<style scoped>\n",
       "    .dataframe tbody tr th:only-of-type {\n",
       "        vertical-align: middle;\n",
       "    }\n",
       "\n",
       "    .dataframe tbody tr th {\n",
       "        vertical-align: top;\n",
       "    }\n",
       "\n",
       "    .dataframe thead th {\n",
       "        text-align: right;\n",
       "    }\n",
       "</style>\n",
       "<table border=\"1\" class=\"dataframe\">\n",
       "  <thead>\n",
       "    <tr style=\"text-align: right;\">\n",
       "      <th></th>\n",
       "      <th>name</th>\n",
       "      <th>ps1</th>\n",
       "      <th>ps2</th>\n",
       "      <th>ps3</th>\n",
       "    </tr>\n",
       "  </thead>\n",
       "  <tbody>\n",
       "    <tr>\n",
       "      <th>0</th>\n",
       "      <td>Amina</td>\n",
       "      <td>78</td>\n",
       "      <td>95</td>\n",
       "      <td>82</td>\n",
       "    </tr>\n",
       "    <tr>\n",
       "      <th>2</th>\n",
       "      <td>Charlie</td>\n",
       "      <td>85</td>\n",
       "      <td>92</td>\n",
       "      <td>60</td>\n",
       "    </tr>\n",
       "    <tr>\n",
       "      <th>4</th>\n",
       "      <td>Ellie</td>\n",
       "      <td>88</td>\n",
       "      <td>90</td>\n",
       "      <td>86</td>\n",
       "    </tr>\n",
       "    <tr>\n",
       "      <th>1</th>\n",
       "      <td>Bob</td>\n",
       "      <td>92</td>\n",
       "      <td>70</td>\n",
       "      <td>99</td>\n",
       "    </tr>\n",
       "    <tr>\n",
       "      <th>3</th>\n",
       "      <td>Dawud</td>\n",
       "      <td>92</td>\n",
       "      <td>85</td>\n",
       "      <td>88</td>\n",
       "    </tr>\n",
       "  </tbody>\n",
       "</table>\n",
       "</div>"
      ],
      "text/plain": [
       "      name  ps1  ps2  ps3\n",
       "0    Amina   78   95   82\n",
       "2  Charlie   85   92   60\n",
       "4    Ellie   88   90   86\n",
       "1      Bob   92   70   99\n",
       "3    Dawud   92   85   88"
      ]
     },
     "execution_count": 4,
     "metadata": {},
     "output_type": "execute_result"
    }
   ],
   "source": [
    "# Sort by ps1 score (ascending order)\n",
    "df.sort_values('ps1', ascending=True)"
   ]
  },
  {
   "cell_type": "markdown",
   "id": "24497ded",
   "metadata": {},
   "source": [
    "### Primary and Secondary Sort Order\n",
    "Notice that the ascending and descending orders were not quite the mirror images of each other. The reason is that there was a tie, and it seems to have preserved the original order of those tied rows: Bob before Dawud in both sorts.\n",
    "\n",
    "You can specify a secondary column to break the tie, instead of leaving it unspecified.\n",
    "For example, sort by `ps1` (primary) and then by `ps2` (secondary, to break ties):"
   ]
  },
  {
   "cell_type": "code",
   "execution_count": 5,
   "id": "2579b778",
   "metadata": {},
   "outputs": [
    {
     "data": {
      "text/html": [
       "<div>\n",
       "<style scoped>\n",
       "    .dataframe tbody tr th:only-of-type {\n",
       "        vertical-align: middle;\n",
       "    }\n",
       "\n",
       "    .dataframe tbody tr th {\n",
       "        vertical-align: top;\n",
       "    }\n",
       "\n",
       "    .dataframe thead th {\n",
       "        text-align: right;\n",
       "    }\n",
       "</style>\n",
       "<table border=\"1\" class=\"dataframe\">\n",
       "  <thead>\n",
       "    <tr style=\"text-align: right;\">\n",
       "      <th></th>\n",
       "      <th>name</th>\n",
       "      <th>ps1</th>\n",
       "      <th>ps2</th>\n",
       "      <th>ps3</th>\n",
       "    </tr>\n",
       "  </thead>\n",
       "  <tbody>\n",
       "    <tr>\n",
       "      <th>3</th>\n",
       "      <td>Dawud</td>\n",
       "      <td>92</td>\n",
       "      <td>85</td>\n",
       "      <td>88</td>\n",
       "    </tr>\n",
       "    <tr>\n",
       "      <th>1</th>\n",
       "      <td>Bob</td>\n",
       "      <td>92</td>\n",
       "      <td>70</td>\n",
       "      <td>99</td>\n",
       "    </tr>\n",
       "    <tr>\n",
       "      <th>4</th>\n",
       "      <td>Ellie</td>\n",
       "      <td>88</td>\n",
       "      <td>90</td>\n",
       "      <td>86</td>\n",
       "    </tr>\n",
       "    <tr>\n",
       "      <th>2</th>\n",
       "      <td>Charlie</td>\n",
       "      <td>85</td>\n",
       "      <td>92</td>\n",
       "      <td>60</td>\n",
       "    </tr>\n",
       "    <tr>\n",
       "      <th>0</th>\n",
       "      <td>Amina</td>\n",
       "      <td>78</td>\n",
       "      <td>95</td>\n",
       "      <td>82</td>\n",
       "    </tr>\n",
       "  </tbody>\n",
       "</table>\n",
       "</div>"
      ],
      "text/plain": [
       "      name  ps1  ps2  ps3\n",
       "3    Dawud   92   85   88\n",
       "1      Bob   92   70   99\n",
       "4    Ellie   88   90   86\n",
       "2  Charlie   85   92   60\n",
       "0    Amina   78   95   82"
      ]
     },
     "execution_count": 5,
     "metadata": {},
     "output_type": "execute_result"
    }
   ],
   "source": [
    "# Sort by ps1 (primary) and ps2 (secondary)\n",
    "df.sort_values(['ps1', 'ps2'], ascending=[False, False])"
   ]
  },
  {
   "cell_type": "code",
   "execution_count": 6,
   "id": "d1e03b7c",
   "metadata": {},
   "outputs": [
    {
     "data": {
      "text/html": [
       "<div>\n",
       "<style scoped>\n",
       "    .dataframe tbody tr th:only-of-type {\n",
       "        vertical-align: middle;\n",
       "    }\n",
       "\n",
       "    .dataframe tbody tr th {\n",
       "        vertical-align: top;\n",
       "    }\n",
       "\n",
       "    .dataframe thead th {\n",
       "        text-align: right;\n",
       "    }\n",
       "</style>\n",
       "<table border=\"1\" class=\"dataframe\">\n",
       "  <thead>\n",
       "    <tr style=\"text-align: right;\">\n",
       "      <th></th>\n",
       "      <th>name</th>\n",
       "      <th>ps1</th>\n",
       "      <th>ps2</th>\n",
       "      <th>ps3</th>\n",
       "    </tr>\n",
       "  </thead>\n",
       "  <tbody>\n",
       "    <tr>\n",
       "      <th>1</th>\n",
       "      <td>Bob</td>\n",
       "      <td>92</td>\n",
       "      <td>70</td>\n",
       "      <td>99</td>\n",
       "    </tr>\n",
       "    <tr>\n",
       "      <th>3</th>\n",
       "      <td>Dawud</td>\n",
       "      <td>92</td>\n",
       "      <td>85</td>\n",
       "      <td>88</td>\n",
       "    </tr>\n",
       "    <tr>\n",
       "      <th>4</th>\n",
       "      <td>Ellie</td>\n",
       "      <td>88</td>\n",
       "      <td>90</td>\n",
       "      <td>86</td>\n",
       "    </tr>\n",
       "    <tr>\n",
       "      <th>2</th>\n",
       "      <td>Charlie</td>\n",
       "      <td>85</td>\n",
       "      <td>92</td>\n",
       "      <td>60</td>\n",
       "    </tr>\n",
       "    <tr>\n",
       "      <th>0</th>\n",
       "      <td>Amina</td>\n",
       "      <td>78</td>\n",
       "      <td>95</td>\n",
       "      <td>82</td>\n",
       "    </tr>\n",
       "  </tbody>\n",
       "</table>\n",
       "</div>"
      ],
      "text/plain": [
       "      name  ps1  ps2  ps3\n",
       "1      Bob   92   70   99\n",
       "3    Dawud   92   85   88\n",
       "4    Ellie   88   90   86\n",
       "2  Charlie   85   92   60\n",
       "0    Amina   78   95   82"
      ]
     },
     "execution_count": 6,
     "metadata": {},
     "output_type": "execute_result"
    }
   ],
   "source": [
    "# Sort by ps1 (primary) and ps3 (secondary)\n",
    "df.sort_values(['ps1', 'ps3'], ascending=[False, False])"
   ]
  }
 ],
 "metadata": {
  "kernelspec": {
   "display_name": "3.12.2",
   "language": "python",
   "name": "python3"
  },
  "language_info": {
   "codemirror_mode": {
    "name": "ipython",
    "version": 3
   },
   "file_extension": ".py",
   "mimetype": "text/x-python",
   "name": "python",
   "nbconvert_exporter": "python",
   "pygments_lexer": "ipython3",
   "version": "3.12.2"
  }
 },
 "nbformat": 4,
 "nbformat_minor": 5
}
