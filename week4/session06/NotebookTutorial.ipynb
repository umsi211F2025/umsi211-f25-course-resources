{
 "cells": [
  {
   "cell_type": "markdown",
   "metadata": {},
   "source": [
    "# Getting Started with Jupyter Notebooks"
   ]
  },
  {
   "cell_type": "markdown",
   "metadata": {},
   "source": [
    "Jupyter notebooks provide an environment where you can interleave code and descriptions of what's going on. They are very commonly used for data science and machine learning, but even for writing basic data processing scripts they are very helpful.\n",
    "\n",
    "The first concept you'll need to understand is that each notebook is a sequence of cells. We will use two kinds of cells:\n",
    "- Code\n",
    "- Markdown\n",
    "\n",
    "For example this cell is a *markdown cell*. It is meant for explanations, and has no impact on program execution. You can think of it like a #comment line in a python program. But it allows for nicer formatting. For example, in the raw text that produces what you see here, the bulleted items are lines beginning with a dash (`-`), and that dash was highlighted by enclosing it in backquotes.\n",
    "\n",
    "If you double-click on this cell, or click on it and then press `Enter`, you will see the raw text that produced it. Click on the `Run` button in the ribbon above this cell, or press `Shift + Enter` to turn it back into formatted text.\n",
    "\n",
    "The cell after this one is a *code cell*. It contains python code. A cell can contain as many lines of code as you want. Running a code cell causes the interpreter to run all the lines of code in that cell only, not the rest of the notebook.\n",
    "\n",
    "If the last line of code in the cell is an expression, rather than an assignment statement, then the value produced by the expression is shown as the output of the cell, **even if you didn't explicitly make a call to `print()`**. For example, the cell below, when executed, produces an output of 8, even though there is no print statement. Try running it.\n",
    "\n",
    "When you first try to run the code cell below, you may be prompted to \"select a kernel\". A kernel is just a python interpreter. For our purposes, any version of python 3 will do. If you have multiple versions of python installed, select the most recent one (hopefully python 3.10 or later).\n",
    "\n",
    "(If you're ever confused about how to do one of the things suggested in this document, ask your copilot for help!)"
   ]
  },
  {
   "cell_type": "code",
   "execution_count": null,
   "metadata": {},
   "outputs": [],
   "source": [
    "x = 3 + 4\n",
    "x + 1"
   ]
  },
  {
   "cell_type": "markdown",
   "metadata": {},
   "source": [
    "You can also have explicit calls to `print()`. As shown in the cell below this one, if you have print statements in the cell that are executed, the results are printed right below the cell, and before the output of the cell."
   ]
  },
  {
   "cell_type": "code",
   "execution_count": null,
   "metadata": {},
   "outputs": [],
   "source": [
    "x = 4 + 5\n",
    "print(x)\n",
    "print(x + 1)\n",
    "x + 2"
   ]
  },
  {
   "cell_type": "markdown",
   "metadata": {},
   "source": [
    "Another important feature is that variable bindings are saved between cell executions. For example, if you run the cell immediately below this one, it will find whatever value of x was assigned in a previous cell execution."
   ]
  },
  {
   "cell_type": "code",
   "execution_count": null,
   "metadata": {},
   "outputs": [],
   "source": [
    "# x is available even though not assigned a value in this cell\n",
    "x + 10"
   ]
  },
  {
   "cell_type": "markdown",
   "metadata": {},
   "source": [
    "Mostly, the sharing of variable bindings between cell runs will make your life a lot easier as you work with jupyter notebooks. \n",
    "\n",
    "Occasionally, it will create massive confusion. In particular, jupyter will permit you to run the cells out of order, or execute a cell more than once. This can lead to surprising results that are hard to replicate, unless you remember the order in which you executed things. jupyter tries to help you by incrementing a counter each time a code cell is run and showing that counter next to the cells'. For example `[3]` to the left of a cell means that cell was the third one executed. That can help remind you of the order in which cells were executed.\n",
    "\n",
    "If things ever get really confusing, you can keep all the cells but restart the execution process from the beginning. In VS Code, open the Command Palette (`Cmd + Shift + P` on macOS, `Ctrl + Shift + P` on Windows/Linux), type \"Jupyter: Restart Kernel\" and select it. This will restart the kernel and clear all variable states. Then you can go through the cells and execute them from top to bottom. Or, you can have them all run from scratch, by selecting \"Jupyter: Restart and Run All\" from the Command Palette or clicking on the \"Run All\" button in the toolbar."
   ]
  },
  {
   "cell_type": "markdown",
   "metadata": {},
   "source": [
    "# Saving your work\n",
    "Jupyter does autosave frequently as you are working. But you should be sure to do an explicit save before you close the file."
   ]
  },
  {
   "cell_type": "markdown",
   "metadata": {},
   "source": [
    "# More Help and Features\n",
    "One of the most useful features is to make line numbers visible within each cell. That's one of the options behind the ... icon at the right end of the ribbon above. Click on that icon, and select `Notebook Line Numbers`.\n",
    "\n",
    "You may also want to learn some of the keyboard shortcuts. In VS Code, you can see all keyboard shortcuts by clicking on the gear icon (⚙️) in the lower left corner and selecting \"Keyboard Shortcuts,\" or by using the menu: Help → Keyboard Shortcuts. You can also press `Cmd + K Cmd + S` (on macOS) to open the Keyboard Shortcuts panel directly. For notebook-specific shortcuts, search for \"notebook\" or \"Jupyter\" in the Keyboard Shortcuts panel.\n",
    "\n",
    "One useful concept for understanding the keyboard shortcuts is that there are two modes. When you have clicked into a cell, you are in *Edit Mode*. If you hit the `Esc` key, you will be in *Command mode*. Different keyboard shortcuts are available in these two modes.\n",
    "\n",
    "For a cheatsheet on markdown formatting, see https://guides.github.com/pdfs/markdown-cheatsheet-online.pdf"
   ]
  },
  {
   "cell_type": "markdown",
   "metadata": {},
   "source": [
    "## Jupyter Notebook Mechanics Exercises"
   ]
  },
  {
   "cell_type": "markdown",
   "metadata": {},
   "source": [
    "Q1. Turn on Line Numbers\n",
    "(if you haven't already done so)"
   ]
  },
  {
   "cell_type": "markdown",
   "metadata": {},
   "source": [
    "Q2. Change the cell above to __h1__ heading.  (Hint: one # instead of two)"
   ]
  },
  {
   "cell_type": "markdown",
   "metadata": {},
   "source": [
    "Q3. What are the two major cell types in Jupyter Notebooks?"
   ]
  },
  {
   "cell_type": "markdown",
   "metadata": {},
   "source": [
    "Q4. What are the differences between them?"
   ]
  },
  {
   "cell_type": "markdown",
   "metadata": {},
   "source": [
    "Q5. What are _Edit_ mode and _Command_ mode? How do you switch between them?"
   ]
  },
  {
   "cell_type": "markdown",
   "metadata": {},
   "source": [
    "Q6. How do you create a new cell below this one?"
   ]
  },
  {
   "cell_type": "markdown",
   "metadata": {},
   "source": [
    "Q7. How can we change the cell type?"
   ]
  },
  {
   "cell_type": "markdown",
   "metadata": {},
   "source": [
    "Q8. How do you execute a cell? Execute the cell below and then move it above this cell, using cut and paste."
   ]
  },
  {
   "cell_type": "code",
   "execution_count": null,
   "metadata": {
    "collapsed": true
   },
   "outputs": [],
   "source": [
    "x = 3\n",
    "y = x + 3\n",
    "y"
   ]
  },
  {
   "cell_type": "code",
   "execution_count": null,
   "metadata": {
    "collapsed": true
   },
   "outputs": [],
   "source": [
    "Q9. What is wrong with this cell? What happens when you execute it? Fix it."
   ]
  },
  {
   "cell_type": "code",
   "execution_count": null,
   "metadata": {},
   "outputs": [],
   "source": []
  }
 ],
 "metadata": {
  "kernelspec": {
   "display_name": "3.12.2",
   "language": "python",
   "name": "python3"
  },
  "language_info": {
   "codemirror_mode": {
    "name": "ipython",
    "version": 3
   },
   "file_extension": ".py",
   "mimetype": "text/x-python",
   "name": "python",
   "nbconvert_exporter": "python",
   "pygments_lexer": "ipython3",
   "version": "3.12.2"
  }
 },
 "nbformat": 4,
 "nbformat_minor": 2
}
