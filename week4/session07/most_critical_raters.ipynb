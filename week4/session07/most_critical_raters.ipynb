{
 "cells": [
  {
   "cell_type": "markdown",
   "id": "92476434",
   "metadata": {},
   "source": [
    "## Find the Most Critical Raters\n",
    "\n",
    "Define a critical rater as one who gives low ratings to movies.\n",
    "\n",
    "Write code to process a ratings.csv file and identify the top 10 most critical raters based on their average rating. Only raters with at least 5 ratings should be considered."
   ]
  },
  {
   "cell_type": "markdown",
   "id": "46b1a459",
   "metadata": {},
   "source": [
    "## Step 0: Create a Small Dataset for Testing\n",
    "\n",
    "We want the dataset to be small enough to easily verify the results manually, but also to include a variety of users with different rating behaviors.\n",
    "\n",
    "See the file `test_ratings.csv` for the dataset we will use for testing. It has four users with a total of 10 ratings for three movies.\n"
   ]
  },
  {
   "cell_type": "markdown",
   "id": "69e4d3e2",
   "metadata": {},
   "source": [
    "## Step 1: Load the Ratings Data\n",
    "Load the ratings CSV file into a pandas DataFrame. This step ensures the data is available for analysis and in the correct format."
   ]
  },
  {
   "cell_type": "code",
   "execution_count": 21,
   "id": "341b429a",
   "metadata": {},
   "outputs": [
    {
     "data": {
      "text/html": [
       "<div>\n",
       "<style scoped>\n",
       "    .dataframe tbody tr th:only-of-type {\n",
       "        vertical-align: middle;\n",
       "    }\n",
       "\n",
       "    .dataframe tbody tr th {\n",
       "        vertical-align: top;\n",
       "    }\n",
       "\n",
       "    .dataframe thead th {\n",
       "        text-align: right;\n",
       "    }\n",
       "</style>\n",
       "<table border=\"1\" class=\"dataframe\">\n",
       "  <thead>\n",
       "    <tr style=\"text-align: right;\">\n",
       "      <th></th>\n",
       "      <th>userId</th>\n",
       "      <th>movieId</th>\n",
       "      <th>rating</th>\n",
       "    </tr>\n",
       "  </thead>\n",
       "  <tbody>\n",
       "    <tr>\n",
       "      <th>0</th>\n",
       "      <td>1</td>\n",
       "      <td>Movie1</td>\n",
       "      <td>4</td>\n",
       "    </tr>\n",
       "    <tr>\n",
       "      <th>1</th>\n",
       "      <td>1</td>\n",
       "      <td>Movie2</td>\n",
       "      <td>5</td>\n",
       "    </tr>\n",
       "    <tr>\n",
       "      <th>2</th>\n",
       "      <td>2</td>\n",
       "      <td>Movie1</td>\n",
       "      <td>3</td>\n",
       "    </tr>\n",
       "    <tr>\n",
       "      <th>3</th>\n",
       "      <td>3</td>\n",
       "      <td>Movie2</td>\n",
       "      <td>2</td>\n",
       "    </tr>\n",
       "    <tr>\n",
       "      <th>4</th>\n",
       "      <td>3</td>\n",
       "      <td>Movie3</td>\n",
       "      <td>5</td>\n",
       "    </tr>\n",
       "    <tr>\n",
       "      <th>5</th>\n",
       "      <td>4</td>\n",
       "      <td>Movie1</td>\n",
       "      <td>5</td>\n",
       "    </tr>\n",
       "    <tr>\n",
       "      <th>6</th>\n",
       "      <td>4</td>\n",
       "      <td>Movie2</td>\n",
       "      <td>4</td>\n",
       "    </tr>\n",
       "    <tr>\n",
       "      <th>7</th>\n",
       "      <td>4</td>\n",
       "      <td>Movie3</td>\n",
       "      <td>3</td>\n",
       "    </tr>\n",
       "  </tbody>\n",
       "</table>\n",
       "</div>"
      ],
      "text/plain": [
       "   userId movieId  rating\n",
       "0       1  Movie1       4\n",
       "1       1  Movie2       5\n",
       "2       2  Movie1       3\n",
       "3       3  Movie2       2\n",
       "4       3  Movie3       5\n",
       "5       4  Movie1       5\n",
       "6       4  Movie2       4\n",
       "7       4  Movie3       3"
      ]
     },
     "execution_count": 21,
     "metadata": {},
     "output_type": "execute_result"
    }
   ],
   "source": [
    "import pandas as pd\n",
    "test_df = pd.read_csv('test_ratings.csv')\n",
    "test_df"
   ]
  },
  {
   "cell_type": "code",
   "execution_count": 22,
   "id": "e92056d2",
   "metadata": {},
   "outputs": [],
   "source": [
    "# automated test that the first and last rows are as expected\n",
    "assert test_df.iloc[0].tolist() == [1, 'Movie1', 4], \"First row does not match expected values\"\n",
    "assert test_df.iloc[-1].tolist() == [4, 'Movie3', 3], \"Last row does not match expected values\"\n"
   ]
  },
  {
   "cell_type": "markdown",
   "id": "a5d96e29",
   "metadata": {},
   "source": [
    "## Step 2: Compute Rating Count and Average Rating per User\n",
    "Group the DataFrame by user and calculate the mean rating for each user. This step summarizes each user's rating behavior and prepares the data for ranking.\n",
    "\n",
    "The results for the test dataset should look like this:\n",
    "\n",
    "| userId | rating_count | average_rating |\n",
    "|--------|--------------|----------------|\n",
    "| 1      | 2            | 4.5           |\n",
    "| 2      | 1            | 3           |\n",
    "| 3      | 2            | 3.5           |\n",
    "| 4      | 3            | 4.00           | "
   ]
  },
  {
   "cell_type": "code",
   "execution_count": 23,
   "id": "faade0f8",
   "metadata": {},
   "outputs": [],
   "source": [
    "def user_rating_stats(df):\n",
    "    \"\"\"\n",
    "    Given a DataFrame with columns 'userId' and 'rating', return a DataFrame with columns:\n",
    "    - userId\n",
    "    - rating_count: number of ratings for each user\n",
    "    - average_rating: average rating for each user\n",
    "    \"\"\"\n",
    "    stats = df.groupby('userId')['rating'].agg(rating_count='count', average_rating='mean').reset_index()\n",
    "    return stats"
   ]
  },
  {
   "cell_type": "code",
   "execution_count": 26,
   "id": "b516e10a",
   "metadata": {},
   "outputs": [
    {
     "data": {
      "text/html": [
       "<div>\n",
       "<style scoped>\n",
       "    .dataframe tbody tr th:only-of-type {\n",
       "        vertical-align: middle;\n",
       "    }\n",
       "\n",
       "    .dataframe tbody tr th {\n",
       "        vertical-align: top;\n",
       "    }\n",
       "\n",
       "    .dataframe thead th {\n",
       "        text-align: right;\n",
       "    }\n",
       "</style>\n",
       "<table border=\"1\" class=\"dataframe\">\n",
       "  <thead>\n",
       "    <tr style=\"text-align: right;\">\n",
       "      <th></th>\n",
       "      <th>userId</th>\n",
       "      <th>rating_count</th>\n",
       "      <th>average_rating</th>\n",
       "    </tr>\n",
       "  </thead>\n",
       "  <tbody>\n",
       "    <tr>\n",
       "      <th>0</th>\n",
       "      <td>1</td>\n",
       "      <td>2</td>\n",
       "      <td>4.5</td>\n",
       "    </tr>\n",
       "    <tr>\n",
       "      <th>1</th>\n",
       "      <td>2</td>\n",
       "      <td>1</td>\n",
       "      <td>3.0</td>\n",
       "    </tr>\n",
       "    <tr>\n",
       "      <th>2</th>\n",
       "      <td>3</td>\n",
       "      <td>2</td>\n",
       "      <td>3.5</td>\n",
       "    </tr>\n",
       "    <tr>\n",
       "      <th>3</th>\n",
       "      <td>4</td>\n",
       "      <td>3</td>\n",
       "      <td>4.0</td>\n",
       "    </tr>\n",
       "  </tbody>\n",
       "</table>\n",
       "</div>"
      ],
      "text/plain": [
       "   userId  rating_count  average_rating\n",
       "0       1             2             4.5\n",
       "1       2             1             3.0\n",
       "2       3             2             3.5\n",
       "3       4             3             4.0"
      ]
     },
     "metadata": {},
     "output_type": "display_data"
    },
    {
     "name": "stdout",
     "output_type": "stream",
     "text": [
      "Test passed!\n"
     ]
    }
   ],
   "source": [
    "# Automated test for user_rating_stats using existing test_df\n",
    "expected = pd.DataFrame({\n",
    "    'userId': [1, 2, 3, 4],\n",
    "    'rating_count': [2, 1, 2, 3],\n",
    "    'average_rating': [4.5, 3.0, 3.5, 4.0]\n",
    "})\n",
    "\n",
    "test_rating_stats = user_rating_stats(test_df)\n",
    "display(test_rating_stats)\n",
    "\n",
    "# Sort for comparison\n",
    "result_sorted = test_rating_stats.sort_values('userId').reset_index(drop=True)\n",
    "expected_sorted = expected.sort_values('userId').reset_index(drop=True)\n",
    "\n",
    "assert all(result_sorted['rating_count'] == expected_sorted['rating_count'])\n",
    "assert all(abs(result_sorted['average_rating'] - expected_sorted['average_rating']) < 0.01)\n",
    "print('Test passed!')"
   ]
  },
  {
   "cell_type": "markdown",
   "id": "0a9effd9",
   "metadata": {},
   "source": [
    "## Step 3: Filter Users with Too Few Ratings\n",
    "Filter out users who have rated fewer than 5 movies. Do it with a function that takes a paramter for the minimum number of ratings; we can test it with different values even on our small test dataset.\n",
    "\n",
    "For example, if we set the minimum rating count to 2, the filtered results for the test dataset should look like this:\n",
    "| userId | rating_count | average_rating |\n",
    "|--------|--------------|----------------|\n",
    "| 1      | 2            | 4.5           |\n",
    "| 3      | 2            | 3.5           | \n",
    "| 4      | 3            | 4.00           |\n"
   ]
  },
  {
   "cell_type": "code",
   "execution_count": 28,
   "id": "990c8308",
   "metadata": {},
   "outputs": [],
   "source": [
    "def filter_users_by_rating_count(stats_df, min_count=5):\n",
    "    \"\"\"\n",
    "    Given a DataFrame with columns 'userId', 'rating_count', and 'average_rating',\n",
    "    return a DataFrame with only users who have at least min_count ratings.\n",
    "    \"\"\"\n",
    "    return stats_df[stats_df['rating_count'] >= min_count].reset_index(drop=True)"
   ]
  },
  {
   "cell_type": "code",
   "execution_count": 30,
   "id": "58a0d43c",
   "metadata": {},
   "outputs": [
    {
     "name": "stdout",
     "output_type": "stream",
     "text": [
      "Test passed!\n"
     ]
    }
   ],
   "source": [
    "# Automated test for filter_users_by_rating_count\n",
    "import pandas as pd\n",
    "\n",
    "filtered_test_results = filter_users_by_rating_count(test_rating_stats, min_count=2)\n",
    "\n",
    "expected = pd.DataFrame(\n",
    "{\n",
    "    'userId': [1, 3, 4],\n",
    "    'rating_count': [2, 2, 3],\n",
    "    'average_rating': [4.5, 3.5, 4.0]\n",
    "})\n",
    "\n",
    "\n",
    "assert all(filtered_test_results['userId'] == expected['userId'])\n",
    "assert all(filtered_test_results['rating_count'] == expected['rating_count'])\n",
    "assert all(abs(filtered_test_results['average_rating'] - expected['average_rating']) < 0.01)\n",
    "print('Test passed!')"
   ]
  },
  {
   "cell_type": "markdown",
   "id": "5a8f4e27",
   "metadata": {},
   "source": [
    "## Step 4: Sort and Select Top Users\n",
    "Sort users by their average rating and select the top n users. This step identifies the most critical raters based on their average ratings.\n",
    "\n",
    "For example, if we set n=2, the top 2 most critical raters from the filtered results should be:\n",
    "| userId | rating_count | average_rating |\n",
    "|--------|--------------|----------------|\n",
    "| 3      | 2            | 3.5           |\n",
    "| 4      | 3            | 4.00           |  "
   ]
  },
  {
   "cell_type": "code",
   "execution_count": 32,
   "id": "234c6ed3",
   "metadata": {},
   "outputs": [],
   "source": [
    "def select_top_critical_raters(stats_df, top_n=10):\n",
    "    \"\"\"\n",
    "    Given a DataFrame with columns 'userId', 'rating_count', and 'average_rating',\n",
    "    return the top_n users with the lowest average ratings (most critical raters).\n",
    "    \"\"\"\n",
    "    return stats_df.sort_values('average_rating').head(top_n).reset_index(drop=True)"
   ]
  },
  {
   "cell_type": "code",
   "execution_count": 33,
   "id": "1990b0d4",
   "metadata": {},
   "outputs": [
    {
     "name": "stdout",
     "output_type": "stream",
     "text": [
      "Test passed!\n"
     ]
    }
   ],
   "source": [
    "# Automated test for select_top_critical_raters using filtered_test_results\n",
    "expected = pd.DataFrame({\n",
    "    'userId': [3, 4],\n",
    "    'rating_count': [2, 3],\n",
    "    'average_rating': [3.5, 4.0]\n",
    "})  .reset_index(drop=True)\n",
    "\n",
    "final_test_result = select_top_critical_raters(filtered_test_results, top_n=2)\n",
    "\n",
    "assert all(final_test_result['userId'] == expected['userId'])\n",
    "assert all(final_test_result['rating_count'] == expected['rating_count'])\n",
    "assert all(abs(final_test_result['average_rating'] - expected['average_rating']) < 0.01)\n",
    "print('Test passed!')"
   ]
  },
  {
   "cell_type": "markdown",
   "id": "60f06942",
   "metadata": {},
   "source": [
    "## Now run the whole sequence of functions on the real dataset to get our answer."
   ]
  },
  {
   "cell_type": "code",
   "execution_count": 34,
   "id": "76713a8c",
   "metadata": {},
   "outputs": [
    {
     "data": {
      "text/html": [
       "<div>\n",
       "<style scoped>\n",
       "    .dataframe tbody tr th:only-of-type {\n",
       "        vertical-align: middle;\n",
       "    }\n",
       "\n",
       "    .dataframe tbody tr th {\n",
       "        vertical-align: top;\n",
       "    }\n",
       "\n",
       "    .dataframe thead th {\n",
       "        text-align: right;\n",
       "    }\n",
       "</style>\n",
       "<table border=\"1\" class=\"dataframe\">\n",
       "  <thead>\n",
       "    <tr style=\"text-align: right;\">\n",
       "      <th></th>\n",
       "      <th>userId</th>\n",
       "      <th>rating_count</th>\n",
       "      <th>average_rating</th>\n",
       "    </tr>\n",
       "  </thead>\n",
       "  <tbody>\n",
       "    <tr>\n",
       "      <th>0</th>\n",
       "      <td>442</td>\n",
       "      <td>20</td>\n",
       "      <td>1.275000</td>\n",
       "    </tr>\n",
       "    <tr>\n",
       "      <th>1</th>\n",
       "      <td>139</td>\n",
       "      <td>194</td>\n",
       "      <td>2.144330</td>\n",
       "    </tr>\n",
       "    <tr>\n",
       "      <th>2</th>\n",
       "      <td>508</td>\n",
       "      <td>24</td>\n",
       "      <td>2.145833</td>\n",
       "    </tr>\n",
       "    <tr>\n",
       "      <th>3</th>\n",
       "      <td>153</td>\n",
       "      <td>179</td>\n",
       "      <td>2.217877</td>\n",
       "    </tr>\n",
       "    <tr>\n",
       "      <th>4</th>\n",
       "      <td>567</td>\n",
       "      <td>385</td>\n",
       "      <td>2.245455</td>\n",
       "    </tr>\n",
       "    <tr>\n",
       "      <th>5</th>\n",
       "      <td>311</td>\n",
       "      <td>28</td>\n",
       "      <td>2.339286</td>\n",
       "    </tr>\n",
       "    <tr>\n",
       "      <th>6</th>\n",
       "      <td>298</td>\n",
       "      <td>939</td>\n",
       "      <td>2.363685</td>\n",
       "    </tr>\n",
       "    <tr>\n",
       "      <th>7</th>\n",
       "      <td>517</td>\n",
       "      <td>400</td>\n",
       "      <td>2.386250</td>\n",
       "    </tr>\n",
       "    <tr>\n",
       "      <th>8</th>\n",
       "      <td>308</td>\n",
       "      <td>115</td>\n",
       "      <td>2.426087</td>\n",
       "    </tr>\n",
       "    <tr>\n",
       "      <th>9</th>\n",
       "      <td>3</td>\n",
       "      <td>39</td>\n",
       "      <td>2.435897</td>\n",
       "    </tr>\n",
       "  </tbody>\n",
       "</table>\n",
       "</div>"
      ],
      "text/plain": [
       "   userId  rating_count  average_rating\n",
       "0     442            20        1.275000\n",
       "1     139           194        2.144330\n",
       "2     508            24        2.145833\n",
       "3     153           179        2.217877\n",
       "4     567           385        2.245455\n",
       "5     311            28        2.339286\n",
       "6     298           939        2.363685\n",
       "7     517           400        2.386250\n",
       "8     308           115        2.426087\n",
       "9       3            39        2.435897"
      ]
     },
     "execution_count": 34,
     "metadata": {},
     "output_type": "execute_result"
    }
   ],
   "source": [
    "real_ratings_df = pd.read_csv('movielens/ratings.csv')\n",
    "real_stats = user_rating_stats(real_ratings_df)\n",
    "filtered_real_stats = filter_users_by_rating_count(real_stats, min_count=5)\n",
    "top_critical_raters = select_top_critical_raters(filtered_real_stats, top_n=10)\n",
    "top_critical_raters"
   ]
  }
 ],
 "metadata": {
  "kernelspec": {
   "display_name": "3.12.2",
   "language": "python",
   "name": "python3"
  },
  "language_info": {
   "codemirror_mode": {
    "name": "ipython",
    "version": 3
   },
   "file_extension": ".py",
   "mimetype": "text/x-python",
   "name": "python",
   "nbconvert_exporter": "python",
   "pygments_lexer": "ipython3",
   "version": "3.12.2"
  }
 },
 "nbformat": 4,
 "nbformat_minor": 5
}
