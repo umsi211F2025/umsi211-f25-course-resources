{
 "cells": [
  {
   "cell_type": "markdown",
   "id": "40315b4a",
   "metadata": {},
   "source": [
    "# Lab: Find Movies with Highest Average Rating\n",
    "\n",
    "## High-Level Task\n",
    "Find the movies with at least 5 ratings that had the highest average rating using the MovieLens ratings dataset."
   ]
  },
  {
   "cell_type": "markdown",
   "id": "f068b5e8",
   "metadata": {},
   "source": [
    "## Step 1: Break Down the Task\n",
    "\n",
    "Before writing any code, outline the smaller, testable steps you would use to solve this problem. Write your plan as a series of markdown cells."
   ]
  },
  {
   "cell_type": "markdown",
   "id": "5beb523c",
   "metadata": {},
   "source": [
    "# Step 2: For each step, follow the TDD (Test-Driven Development) process\n",
    "1. Write a test for the step.\n",
    "    - as a markdown cell, specify what the function will do and at least one example input/output.\n",
    "2. Write the code for the function.\n",
    "3. Run the test to verify it works.\n",
    "    - adjust the code if needed (or the test if you realize the test was wrong).\n",
    "    - repeat until the test passes.\n",
    "4. Write a code cell that invokes the function on the real data and displays the result."
   ]
  }
 ],
 "metadata": {
  "kernelspec": {
   "display_name": "3.12.2",
   "language": "python",
   "name": "python3"
  },
  "language_info": {
   "codemirror_mode": {
    "name": "ipython",
    "version": 3
   },
   "file_extension": ".py",
   "mimetype": "text/x-python",
   "name": "python",
   "nbconvert_exporter": "python",
   "pygments_lexer": "ipython3",
   "version": "3.12.2"
  }
 },
 "nbformat": 4,
 "nbformat_minor": 5
}
